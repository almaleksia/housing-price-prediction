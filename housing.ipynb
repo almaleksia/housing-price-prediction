{
 "cells": [
  {
   "cell_type": "markdown",
   "metadata": {},
   "source": [
    "## Loading data"
   ]
  },
  {
   "cell_type": "code",
   "execution_count": 1,
   "metadata": {
    "scrolled": true
   },
   "outputs": [
    {
     "data": {
      "text/html": [
       "<div>\n",
       "<style>\n",
       "    .dataframe thead tr:only-child th {\n",
       "        text-align: right;\n",
       "    }\n",
       "\n",
       "    .dataframe thead th {\n",
       "        text-align: left;\n",
       "    }\n",
       "\n",
       "    .dataframe tbody tr th {\n",
       "        vertical-align: top;\n",
       "    }\n",
       "</style>\n",
       "<table border=\"1\" class=\"dataframe\">\n",
       "  <thead>\n",
       "    <tr style=\"text-align: right;\">\n",
       "      <th></th>\n",
       "      <th>Id</th>\n",
       "      <th>MSSubClass</th>\n",
       "      <th>LotFrontage</th>\n",
       "      <th>LotArea</th>\n",
       "      <th>OverallQual</th>\n",
       "      <th>OverallCond</th>\n",
       "      <th>YearBuilt</th>\n",
       "      <th>YearRemodAdd</th>\n",
       "      <th>MasVnrArea</th>\n",
       "      <th>BsmtFinSF1</th>\n",
       "      <th>...</th>\n",
       "      <th>WoodDeckSF</th>\n",
       "      <th>OpenPorchSF</th>\n",
       "      <th>EnclosedPorch</th>\n",
       "      <th>3SsnPorch</th>\n",
       "      <th>ScreenPorch</th>\n",
       "      <th>PoolArea</th>\n",
       "      <th>MiscVal</th>\n",
       "      <th>MoSold</th>\n",
       "      <th>YrSold</th>\n",
       "      <th>SalePrice</th>\n",
       "    </tr>\n",
       "  </thead>\n",
       "  <tbody>\n",
       "    <tr>\n",
       "      <th>count</th>\n",
       "      <td>1460.000000</td>\n",
       "      <td>1460.000000</td>\n",
       "      <td>1201.000000</td>\n",
       "      <td>1460.000000</td>\n",
       "      <td>1460.000000</td>\n",
       "      <td>1460.000000</td>\n",
       "      <td>1460.000000</td>\n",
       "      <td>1460.000000</td>\n",
       "      <td>1452.000000</td>\n",
       "      <td>1460.000000</td>\n",
       "      <td>...</td>\n",
       "      <td>1460.000000</td>\n",
       "      <td>1460.000000</td>\n",
       "      <td>1460.000000</td>\n",
       "      <td>1460.000000</td>\n",
       "      <td>1460.000000</td>\n",
       "      <td>1460.000000</td>\n",
       "      <td>1460.000000</td>\n",
       "      <td>1460.000000</td>\n",
       "      <td>1460.000000</td>\n",
       "      <td>1460.000000</td>\n",
       "    </tr>\n",
       "    <tr>\n",
       "      <th>mean</th>\n",
       "      <td>730.500000</td>\n",
       "      <td>56.897260</td>\n",
       "      <td>70.049958</td>\n",
       "      <td>10516.828082</td>\n",
       "      <td>6.099315</td>\n",
       "      <td>5.575342</td>\n",
       "      <td>1971.267808</td>\n",
       "      <td>1984.865753</td>\n",
       "      <td>103.685262</td>\n",
       "      <td>443.639726</td>\n",
       "      <td>...</td>\n",
       "      <td>94.244521</td>\n",
       "      <td>46.660274</td>\n",
       "      <td>21.954110</td>\n",
       "      <td>3.409589</td>\n",
       "      <td>15.060959</td>\n",
       "      <td>2.758904</td>\n",
       "      <td>43.489041</td>\n",
       "      <td>6.321918</td>\n",
       "      <td>2007.815753</td>\n",
       "      <td>180921.195890</td>\n",
       "    </tr>\n",
       "    <tr>\n",
       "      <th>std</th>\n",
       "      <td>421.610009</td>\n",
       "      <td>42.300571</td>\n",
       "      <td>24.284752</td>\n",
       "      <td>9981.264932</td>\n",
       "      <td>1.382997</td>\n",
       "      <td>1.112799</td>\n",
       "      <td>30.202904</td>\n",
       "      <td>20.645407</td>\n",
       "      <td>181.066207</td>\n",
       "      <td>456.098091</td>\n",
       "      <td>...</td>\n",
       "      <td>125.338794</td>\n",
       "      <td>66.256028</td>\n",
       "      <td>61.119149</td>\n",
       "      <td>29.317331</td>\n",
       "      <td>55.757415</td>\n",
       "      <td>40.177307</td>\n",
       "      <td>496.123024</td>\n",
       "      <td>2.703626</td>\n",
       "      <td>1.328095</td>\n",
       "      <td>79442.502883</td>\n",
       "    </tr>\n",
       "    <tr>\n",
       "      <th>min</th>\n",
       "      <td>1.000000</td>\n",
       "      <td>20.000000</td>\n",
       "      <td>21.000000</td>\n",
       "      <td>1300.000000</td>\n",
       "      <td>1.000000</td>\n",
       "      <td>1.000000</td>\n",
       "      <td>1872.000000</td>\n",
       "      <td>1950.000000</td>\n",
       "      <td>0.000000</td>\n",
       "      <td>0.000000</td>\n",
       "      <td>...</td>\n",
       "      <td>0.000000</td>\n",
       "      <td>0.000000</td>\n",
       "      <td>0.000000</td>\n",
       "      <td>0.000000</td>\n",
       "      <td>0.000000</td>\n",
       "      <td>0.000000</td>\n",
       "      <td>0.000000</td>\n",
       "      <td>1.000000</td>\n",
       "      <td>2006.000000</td>\n",
       "      <td>34900.000000</td>\n",
       "    </tr>\n",
       "    <tr>\n",
       "      <th>25%</th>\n",
       "      <td>365.750000</td>\n",
       "      <td>20.000000</td>\n",
       "      <td>59.000000</td>\n",
       "      <td>7553.500000</td>\n",
       "      <td>5.000000</td>\n",
       "      <td>5.000000</td>\n",
       "      <td>1954.000000</td>\n",
       "      <td>1967.000000</td>\n",
       "      <td>0.000000</td>\n",
       "      <td>0.000000</td>\n",
       "      <td>...</td>\n",
       "      <td>0.000000</td>\n",
       "      <td>0.000000</td>\n",
       "      <td>0.000000</td>\n",
       "      <td>0.000000</td>\n",
       "      <td>0.000000</td>\n",
       "      <td>0.000000</td>\n",
       "      <td>0.000000</td>\n",
       "      <td>5.000000</td>\n",
       "      <td>2007.000000</td>\n",
       "      <td>129975.000000</td>\n",
       "    </tr>\n",
       "    <tr>\n",
       "      <th>50%</th>\n",
       "      <td>730.500000</td>\n",
       "      <td>50.000000</td>\n",
       "      <td>69.000000</td>\n",
       "      <td>9478.500000</td>\n",
       "      <td>6.000000</td>\n",
       "      <td>5.000000</td>\n",
       "      <td>1973.000000</td>\n",
       "      <td>1994.000000</td>\n",
       "      <td>0.000000</td>\n",
       "      <td>383.500000</td>\n",
       "      <td>...</td>\n",
       "      <td>0.000000</td>\n",
       "      <td>25.000000</td>\n",
       "      <td>0.000000</td>\n",
       "      <td>0.000000</td>\n",
       "      <td>0.000000</td>\n",
       "      <td>0.000000</td>\n",
       "      <td>0.000000</td>\n",
       "      <td>6.000000</td>\n",
       "      <td>2008.000000</td>\n",
       "      <td>163000.000000</td>\n",
       "    </tr>\n",
       "    <tr>\n",
       "      <th>75%</th>\n",
       "      <td>1095.250000</td>\n",
       "      <td>70.000000</td>\n",
       "      <td>80.000000</td>\n",
       "      <td>11601.500000</td>\n",
       "      <td>7.000000</td>\n",
       "      <td>6.000000</td>\n",
       "      <td>2000.000000</td>\n",
       "      <td>2004.000000</td>\n",
       "      <td>166.000000</td>\n",
       "      <td>712.250000</td>\n",
       "      <td>...</td>\n",
       "      <td>168.000000</td>\n",
       "      <td>68.000000</td>\n",
       "      <td>0.000000</td>\n",
       "      <td>0.000000</td>\n",
       "      <td>0.000000</td>\n",
       "      <td>0.000000</td>\n",
       "      <td>0.000000</td>\n",
       "      <td>8.000000</td>\n",
       "      <td>2009.000000</td>\n",
       "      <td>214000.000000</td>\n",
       "    </tr>\n",
       "    <tr>\n",
       "      <th>max</th>\n",
       "      <td>1460.000000</td>\n",
       "      <td>190.000000</td>\n",
       "      <td>313.000000</td>\n",
       "      <td>215245.000000</td>\n",
       "      <td>10.000000</td>\n",
       "      <td>9.000000</td>\n",
       "      <td>2010.000000</td>\n",
       "      <td>2010.000000</td>\n",
       "      <td>1600.000000</td>\n",
       "      <td>5644.000000</td>\n",
       "      <td>...</td>\n",
       "      <td>857.000000</td>\n",
       "      <td>547.000000</td>\n",
       "      <td>552.000000</td>\n",
       "      <td>508.000000</td>\n",
       "      <td>480.000000</td>\n",
       "      <td>738.000000</td>\n",
       "      <td>15500.000000</td>\n",
       "      <td>12.000000</td>\n",
       "      <td>2010.000000</td>\n",
       "      <td>755000.000000</td>\n",
       "    </tr>\n",
       "  </tbody>\n",
       "</table>\n",
       "<p>8 rows × 38 columns</p>\n",
       "</div>"
      ],
      "text/plain": [
       "                Id   MSSubClass  LotFrontage        LotArea  OverallQual  \\\n",
       "count  1460.000000  1460.000000  1201.000000    1460.000000  1460.000000   \n",
       "mean    730.500000    56.897260    70.049958   10516.828082     6.099315   \n",
       "std     421.610009    42.300571    24.284752    9981.264932     1.382997   \n",
       "min       1.000000    20.000000    21.000000    1300.000000     1.000000   \n",
       "25%     365.750000    20.000000    59.000000    7553.500000     5.000000   \n",
       "50%     730.500000    50.000000    69.000000    9478.500000     6.000000   \n",
       "75%    1095.250000    70.000000    80.000000   11601.500000     7.000000   \n",
       "max    1460.000000   190.000000   313.000000  215245.000000    10.000000   \n",
       "\n",
       "       OverallCond    YearBuilt  YearRemodAdd   MasVnrArea   BsmtFinSF1  \\\n",
       "count  1460.000000  1460.000000   1460.000000  1452.000000  1460.000000   \n",
       "mean      5.575342  1971.267808   1984.865753   103.685262   443.639726   \n",
       "std       1.112799    30.202904     20.645407   181.066207   456.098091   \n",
       "min       1.000000  1872.000000   1950.000000     0.000000     0.000000   \n",
       "25%       5.000000  1954.000000   1967.000000     0.000000     0.000000   \n",
       "50%       5.000000  1973.000000   1994.000000     0.000000   383.500000   \n",
       "75%       6.000000  2000.000000   2004.000000   166.000000   712.250000   \n",
       "max       9.000000  2010.000000   2010.000000  1600.000000  5644.000000   \n",
       "\n",
       "           ...         WoodDeckSF  OpenPorchSF  EnclosedPorch    3SsnPorch  \\\n",
       "count      ...        1460.000000  1460.000000    1460.000000  1460.000000   \n",
       "mean       ...          94.244521    46.660274      21.954110     3.409589   \n",
       "std        ...         125.338794    66.256028      61.119149    29.317331   \n",
       "min        ...           0.000000     0.000000       0.000000     0.000000   \n",
       "25%        ...           0.000000     0.000000       0.000000     0.000000   \n",
       "50%        ...           0.000000    25.000000       0.000000     0.000000   \n",
       "75%        ...         168.000000    68.000000       0.000000     0.000000   \n",
       "max        ...         857.000000   547.000000     552.000000   508.000000   \n",
       "\n",
       "       ScreenPorch     PoolArea       MiscVal       MoSold       YrSold  \\\n",
       "count  1460.000000  1460.000000   1460.000000  1460.000000  1460.000000   \n",
       "mean     15.060959     2.758904     43.489041     6.321918  2007.815753   \n",
       "std      55.757415    40.177307    496.123024     2.703626     1.328095   \n",
       "min       0.000000     0.000000      0.000000     1.000000  2006.000000   \n",
       "25%       0.000000     0.000000      0.000000     5.000000  2007.000000   \n",
       "50%       0.000000     0.000000      0.000000     6.000000  2008.000000   \n",
       "75%       0.000000     0.000000      0.000000     8.000000  2009.000000   \n",
       "max     480.000000   738.000000  15500.000000    12.000000  2010.000000   \n",
       "\n",
       "           SalePrice  \n",
       "count    1460.000000  \n",
       "mean   180921.195890  \n",
       "std     79442.502883  \n",
       "min     34900.000000  \n",
       "25%    129975.000000  \n",
       "50%    163000.000000  \n",
       "75%    214000.000000  \n",
       "max    755000.000000  \n",
       "\n",
       "[8 rows x 38 columns]"
      ]
     },
     "execution_count": 1,
     "metadata": {},
     "output_type": "execute_result"
    }
   ],
   "source": [
    "import pandas as pd\n",
    "train = pd.read_csv(\"data/train.csv\")\n",
    "train.describe()"
   ]
  },
  {
   "cell_type": "code",
   "execution_count": 2,
   "metadata": {},
   "outputs": [
    {
     "data": {
      "text/plain": [
       "Id                  0\n",
       "MSSubClass          0\n",
       "MSZoning            0\n",
       "LotFrontage       259\n",
       "LotArea             0\n",
       "Street              0\n",
       "Alley            1369\n",
       "LotShape            0\n",
       "LandContour         0\n",
       "Utilities           0\n",
       "LotConfig           0\n",
       "LandSlope           0\n",
       "Neighborhood        0\n",
       "Condition1          0\n",
       "Condition2          0\n",
       "BldgType            0\n",
       "HouseStyle          0\n",
       "OverallQual         0\n",
       "OverallCond         0\n",
       "YearBuilt           0\n",
       "YearRemodAdd        0\n",
       "RoofStyle           0\n",
       "RoofMatl            0\n",
       "Exterior1st         0\n",
       "Exterior2nd         0\n",
       "MasVnrType          8\n",
       "MasVnrArea          8\n",
       "ExterQual           0\n",
       "ExterCond           0\n",
       "Foundation          0\n",
       "                 ... \n",
       "BedroomAbvGr        0\n",
       "KitchenAbvGr        0\n",
       "KitchenQual         0\n",
       "TotRmsAbvGrd        0\n",
       "Functional          0\n",
       "Fireplaces          0\n",
       "FireplaceQu       690\n",
       "GarageType         81\n",
       "GarageYrBlt        81\n",
       "GarageFinish       81\n",
       "GarageCars          0\n",
       "GarageArea          0\n",
       "GarageQual         81\n",
       "GarageCond         81\n",
       "PavedDrive          0\n",
       "WoodDeckSF          0\n",
       "OpenPorchSF         0\n",
       "EnclosedPorch       0\n",
       "3SsnPorch           0\n",
       "ScreenPorch         0\n",
       "PoolArea            0\n",
       "PoolQC           1453\n",
       "Fence            1179\n",
       "MiscFeature      1406\n",
       "MiscVal             0\n",
       "MoSold              0\n",
       "YrSold              0\n",
       "SaleType            0\n",
       "SaleCondition       0\n",
       "SalePrice           0\n",
       "Length: 81, dtype: int64"
      ]
     },
     "execution_count": 2,
     "metadata": {},
     "output_type": "execute_result"
    }
   ],
   "source": [
    "pd.isnull(train).sum()"
   ]
  },
  {
   "cell_type": "code",
   "execution_count": 3,
   "metadata": {},
   "outputs": [
    {
     "data": {
      "text/plain": [
       "Id                 int64\n",
       "MSSubClass         int64\n",
       "MSZoning          object\n",
       "LotFrontage      float64\n",
       "LotArea            int64\n",
       "Street            object\n",
       "Alley             object\n",
       "LotShape          object\n",
       "LandContour       object\n",
       "Utilities         object\n",
       "LotConfig         object\n",
       "LandSlope         object\n",
       "Neighborhood      object\n",
       "Condition1        object\n",
       "Condition2        object\n",
       "BldgType          object\n",
       "HouseStyle        object\n",
       "OverallQual        int64\n",
       "OverallCond        int64\n",
       "YearBuilt          int64\n",
       "YearRemodAdd       int64\n",
       "RoofStyle         object\n",
       "RoofMatl          object\n",
       "Exterior1st       object\n",
       "Exterior2nd       object\n",
       "MasVnrType        object\n",
       "MasVnrArea       float64\n",
       "ExterQual         object\n",
       "ExterCond         object\n",
       "Foundation        object\n",
       "                  ...   \n",
       "BedroomAbvGr       int64\n",
       "KitchenAbvGr       int64\n",
       "KitchenQual       object\n",
       "TotRmsAbvGrd       int64\n",
       "Functional        object\n",
       "Fireplaces         int64\n",
       "FireplaceQu       object\n",
       "GarageType        object\n",
       "GarageYrBlt      float64\n",
       "GarageFinish      object\n",
       "GarageCars         int64\n",
       "GarageArea         int64\n",
       "GarageQual        object\n",
       "GarageCond        object\n",
       "PavedDrive        object\n",
       "WoodDeckSF         int64\n",
       "OpenPorchSF        int64\n",
       "EnclosedPorch      int64\n",
       "3SsnPorch          int64\n",
       "ScreenPorch        int64\n",
       "PoolArea           int64\n",
       "PoolQC            object\n",
       "Fence             object\n",
       "MiscFeature       object\n",
       "MiscVal            int64\n",
       "MoSold             int64\n",
       "YrSold             int64\n",
       "SaleType          object\n",
       "SaleCondition     object\n",
       "SalePrice          int64\n",
       "Length: 81, dtype: object"
      ]
     },
     "execution_count": 3,
     "metadata": {},
     "output_type": "execute_result"
    }
   ],
   "source": [
    "train.dtypes"
   ]
  },
  {
   "cell_type": "markdown",
   "metadata": {},
   "source": [
    "## Helpers"
   ]
  },
  {
   "cell_type": "code",
   "execution_count": 4,
   "metadata": {},
   "outputs": [],
   "source": [
    "from scipy.stats import skew \n",
    "import numpy as np\n",
    "from sklearn import preprocessing\n",
    "from sklearn.model_selection import KFold, cross_val_score\n",
    "import matplotlib.pyplot as plt\n",
    "\n",
    "def remove_na(data):\n",
    "    for col in data.columns:\n",
    "        if data[col].isnull().sum() > 50:\n",
    "            data = data.drop(col,1)\n",
    "        else:\n",
    "            if data[col].dtype == object:\n",
    "                data.loc[data[col].isnull(), col] = \"Un\"\n",
    "            else:\n",
    "                data.loc[data[col].isnull(), col] = data[col].median()\n",
    "    return data\n",
    "\n",
    "def remove_skew(data):\n",
    "    num_cols = data.columns[data.dtypes != object]\n",
    "    for col in num_cols:\n",
    "        if skew(data[col]) > 0.5:\n",
    "            data.loc[data[col] == 0, col] = 10**-10\n",
    "            data[col] = np.log(data[col])\n",
    "    return data\n",
    "\n",
    "def preprocess_labels(features):\n",
    "    le = preprocessing.LabelEncoder()\n",
    "    for i in range(0,features.shape[1]):\n",
    "        features[:,i] = le.fit_transform(features[:,i])\n",
    "    return features\n",
    "\n",
    "def scale_features(features):\n",
    "    scaler = preprocessing.StandardScaler().fit(features)\n",
    "    features_scaled = scaler.transform(features)\n",
    "    return features_scaled\n",
    "\n",
    "def cross_validate(estimator, X, y, splits):\n",
    "    summ = 0;\n",
    "    k_fold = KFold(n_splits=splits)\n",
    "    for train, test in k_fold.split(X):\n",
    "        model = estimator.fit(X[train], y[train])\n",
    "        test_sc = model.score(X[test], y[test])\n",
    "        train_sc = model.score(X[train], y[train])\n",
    "        print(\"Train: \" + str(train_sc))\n",
    "        print(\"Test: \" + str(test_sc))\n",
    "\n",
    "        summ +=test_sc\n",
    "    avg = summ/splits \n",
    "    print(\"Average: \" + str(avg))\n",
    "    \n",
    "def get_predictions(estimator, X_train, y_train, X_test, splits): \n",
    "    k_fold = KFold(n_splits=splits)\n",
    "\n",
    "    result_train = np.zeros(( len(X_train[:, 0]),))\n",
    "    result_test = np.zeros(( len(X_test[:, 0]),))\n",
    "    test_folds = np.empty((splits, len(X_test[:, 0]) ))\n",
    "    \n",
    "    print(\"Len of test_folds \" + str(len(test_folds[1])))\n",
    "    print(\"Len of X_test \" + str(len(X_test[:, 0])))\n",
    "    print( \"Len of result train \" + str(len(result_train)))\n",
    "\n",
    "    \n",
    "    idx = 0\n",
    "    for (train, test) in k_fold.split(X_train):\n",
    "        x_train_fold = X_train[train]\n",
    "        y_train_fold = y_train[train]\n",
    "        x_test_fold = X_train[test]\n",
    "\n",
    "        estimator.fit(x_train_fold, y_train_fold)\n",
    "        result_train[test] = estimator.predict(x_test_fold)\n",
    "        \n",
    "        preds = estimator.predict(X_test)\n",
    "        \n",
    "        test_folds[idx, :] = preds\n",
    "        idx += 1\n",
    "        \n",
    "    result_test[:] = test_folds.mean(axis=0)\n",
    "    \n",
    "    return result_train.reshape(-1,1), result_test.reshape(-1, 1)\n",
    "        \n",
    "def plot_predictions(y_pred, y_test):\n",
    "    plt.figure(figsize=(10, 5))\n",
    "    plt.scatter(y_test, y_pred, s=20)\n",
    "    plt.title('Predicted prices vs. Actual prices')\n",
    "    plt.xlabel('Actual price')\n",
    "    plt.ylabel('Predicted price')\n",
    "\n",
    "    plt.plot([min(y_test), max(y_test)], [min(y_test), max(y_test)])\n",
    "    plt.tight_layout()        \n",
    "    \n",
    "def preprocess_testset():\n",
    "    test = pd.read_csv(\"data/test.csv\")\n",
    "\n",
    "    test = remove_na(test)\n",
    "    test = remove_skew(test)\n",
    "\n",
    "    features_test_kaggle = preprocess_labels(test.as_matrix())\n",
    "    features_test_kaggle = scale_features(features_test_kaggle)\n",
    "    \n",
    "    return features_test_kaggle, test\n",
    "    \n",
    "def generate_submission(estimator):\n",
    "    features_test_kaggle, test = preprocess_testset()\n",
    "    \n",
    "    y_test_kaggle = estimator.predict(features_test_kaggle)\n",
    "    \n",
    "    ids = test[\"Id\"].astype(int)\n",
    "    result = pd.DataFrame(data=np.exp(y_test_kaggle), columns = [\"SalePrice\"], index=ids)\n",
    "    result.to_csv(\"data/result.csv\")"
   ]
  },
  {
   "cell_type": "markdown",
   "metadata": {},
   "source": [
    "## Preprocessing"
   ]
  },
  {
   "cell_type": "code",
   "execution_count": 5,
   "metadata": {},
   "outputs": [],
   "source": [
    "train = remove_na(train)\n",
    "train = remove_skew(train)"
   ]
  },
  {
   "cell_type": "code",
   "execution_count": 6,
   "metadata": {},
   "outputs": [],
   "source": [
    "X_train = train.drop(\"SalePrice\",1)\n",
    "y_train = train[\"SalePrice\"]\n",
    "\n",
    "features_train = X_train.as_matrix()\n",
    "target_train = y_train.as_matrix()"
   ]
  },
  {
   "cell_type": "code",
   "execution_count": 7,
   "metadata": {},
   "outputs": [
    {
     "name": "stderr",
     "output_type": "stream",
     "text": [
      "/Users/ksenia/my-venv/lib/python2.7/site-packages/sklearn/utils/validation.py:444: DataConversionWarning: Data with input dtype object was converted to float64 by StandardScaler.\n",
      "  warnings.warn(msg, DataConversionWarning)\n"
     ]
    }
   ],
   "source": [
    "features_train = preprocess_labels(features_train)\n",
    "features_train = scale_features(features_train)"
   ]
  },
  {
   "cell_type": "markdown",
   "metadata": {},
   "source": [
    "## Random forests regression model\n",
    "\n",
    "### Fitting and estimating model"
   ]
  },
  {
   "cell_type": "code",
   "execution_count": 8,
   "metadata": {},
   "outputs": [
    {
     "name": "stdout",
     "output_type": "stream",
     "text": [
      "Train: 0.974225662903\n",
      "Test: 0.885055011723\n",
      "Train: 0.973147709043\n",
      "Test: 0.902091705292\n",
      "Train: 0.973089554109\n",
      "Test: 0.898669055371\n",
      "Train: 0.97438153215\n",
      "Test: 0.845469308222\n",
      "Train: 0.974168550905\n",
      "Test: 0.868908629664\n",
      "Train: 0.973979660172\n",
      "Test: 0.892735064877\n",
      "Train: 0.974265525645\n",
      "Test: 0.874805780672\n",
      "Train: 0.973787774478\n",
      "Test: 0.901765460795\n",
      "Train: 0.973807762551\n",
      "Test: 0.861607355649\n",
      "Train: 0.974669481888\n",
      "Test: 0.876293918675\n",
      "Average: 0.880740129094\n"
     ]
    }
   ],
   "source": [
    "from sklearn.ensemble import RandomForestRegressor\n",
    "\n",
    "model_forest = RandomForestRegressor(random_state=3, n_estimators=600, max_depth=100, max_features=9, \n",
    "                                     min_samples_split=5)\n",
    "\n",
    "cross_validate(model_forest, features_train, target_train, 10)"
   ]
  },
  {
   "cell_type": "markdown",
   "metadata": {},
   "source": [
    "### Predictions"
   ]
  },
  {
   "cell_type": "code",
   "execution_count": 9,
   "metadata": {
    "scrolled": true
   },
   "outputs": [],
   "source": [
    "from sklearn.model_selection import train_test_split\n",
    "\n",
    "X_train_mf, X_test_mf, y_train_mf, y_test_mf = train_test_split(features_train, target_train)\n",
    "\n",
    "model_forest_p = RandomForestRegressor(random_state=3, n_estimators=600, max_depth=100, max_features=9, \n",
    "                                     min_samples_split=5)\n",
    "\n",
    "model_forest_p.fit(X_train_mf, y_train_mf)\n",
    "\n",
    "y_pred_mf = model_forest_p.predict(X_test_mf)"
   ]
  },
  {
   "cell_type": "code",
   "execution_count": 10,
   "metadata": {},
   "outputs": [
    {
     "data": {
      "image/png": "[encoded data removed]",
      "text/plain": [
       "<matplotlib.figure.Figure at 0x10d97ea10>"
      ]
     },
     "metadata": {},
     "output_type": "display_data"
    }
   ],
   "source": [
    "%matplotlib inline\n",
    "\n",
    "plot_predictions(y_pred_mf, y_test_mf)"
   ]
  },
  {
   "cell_type": "markdown",
   "metadata": {},
   "source": [
    "## Support Vector Machines "
   ]
  },
  {
   "cell_type": "markdown",
   "metadata": {},
   "source": [
    "### Fitting and estimating model"
   ]
  },
  {
   "cell_type": "code",
   "execution_count": 12,
   "metadata": {
    "scrolled": true
   },
   "outputs": [
    {
     "name": "stdout",
     "output_type": "stream",
     "text": [
      "[LibSVM]Train: 0.896666419354\n",
      "Test: 0.909004810246\n",
      "[LibSVM]Train: 0.903353265626\n",
      "Test: 0.879092438806\n",
      "[LibSVM]Train: 0.900265946708\n",
      "Test: 0.895563855579\n",
      "[LibSVM]Train: 0.898987254978\n",
      "Test: 0.896679915279\n",
      "[LibSVM]Train: 0.906313176726\n",
      "Test: 0.859570892686\n",
      "Average: 0.887982382519\n"
     ]
    }
   ],
   "source": [
    "from sklearn.svm import SVR\n",
    "\n",
    "svr_lin = SVR(kernel='linear', verbose=2)\n",
    "\n",
    "cross_validate(svr_lin, features_train, target_train, 5)"
   ]
  },
  {
   "cell_type": "markdown",
   "metadata": {
    "scrolled": true
   },
   "source": [
    "### Predictions"
   ]
  },
  {
   "cell_type": "code",
   "execution_count": 13,
   "metadata": {},
   "outputs": [],
   "source": [
    "from sklearn.model_selection import train_test_split\n",
    "from sklearn.svm import SVR\n",
    "\n",
    "X_train_sv, X_test_sv, y_train_sv, y_test_sv = train_test_split(features_train, target_train)\n",
    "\n",
    "svr_lin_p = SVR(kernel='linear')\n",
    "\n",
    "svr_lin_p.fit(X_train_sv, y_train_sv)\n",
    "\n",
    "y_pred_sv = svr_lin_p.predict(X_test_sv)"
   ]
  },
  {
   "cell_type": "code",
   "execution_count": 15,
   "metadata": {
    "scrolled": true
   },
   "outputs": [
    {
     "data": {
      "image/png": "[encoded data removed]",
      "text/plain": [
       "<matplotlib.figure.Figure at 0x110d70110>"
      ]
     },
     "metadata": {},
     "output_type": "display_data"
    }
   ],
   "source": [
    "%matplotlib inline\n",
    "\n",
    "plot_predictions(y_pred_sv, y_test_sv)"
   ]
  },
  {
   "cell_type": "markdown",
   "metadata": {},
   "source": [
    "## Gradient Boosting Tree"
   ]
  },
  {
   "cell_type": "markdown",
   "metadata": {},
   "source": [
    "### Fitting and estimating model"
   ]
  },
  {
   "cell_type": "code",
   "execution_count": 16,
   "metadata": {
    "scrolled": false
   },
   "outputs": [
    {
     "name": "stdout",
     "output_type": "stream",
     "text": [
      "Train: 0.980820624094\n",
      "Test: 0.907854341563\n",
      "Train: 0.980062855077\n",
      "Test: 0.945942423814\n",
      "Train: 0.979791850841\n",
      "Test: 0.93959083838\n",
      "Train: 0.981070802646\n",
      "Test: 0.86276055631\n",
      "Train: 0.982441165138\n",
      "Test: 0.897742589386\n",
      "Train: 0.980458775626\n",
      "Test: 0.927032250685\n",
      "Train: 0.980835511519\n",
      "Test: 0.914452015663\n",
      "Train: 0.980188576009\n",
      "Test: 0.936906247258\n",
      "Train: 0.980449882673\n",
      "Test: 0.914964964581\n",
      "Train: 0.981455008093\n",
      "Test: 0.900479783933\n",
      "Average: 0.914772601157\n"
     ]
    }
   ],
   "source": [
    "from sklearn.ensemble import GradientBoostingRegressor\n",
    "\n",
    "model_gb = GradientBoostingRegressor(learning_rate=0.02, n_estimators=2000, max_depth=3, random_state=1,\n",
    "                                     min_samples_split=6, max_features=0.1)\n",
    "\n",
    "cross_validate(model_gb, features_train, target_train, 10)"
   ]
  },
  {
   "cell_type": "markdown",
   "metadata": {},
   "source": [
    "### Predictions"
   ]
  },
  {
   "cell_type": "code",
   "execution_count": 17,
   "metadata": {},
   "outputs": [],
   "source": [
    "from sklearn.model_selection import train_test_split\n",
    "from sklearn.ensemble import GradientBoostingRegressor\n",
    "\n",
    "X_train_gb, X_test_gb, y_train_gb, y_test_gb = train_test_split(features_train, target_train)\n",
    "\n",
    "model_gb_p = GradientBoostingRegressor(learning_rate=0.01, n_estimators=1000, max_depth=5, random_state=1,\n",
    "                                     min_samples_split=5, max_features=0.2)\n",
    "\n",
    "model_gb_p.fit(X_train_gb, y_train_gb)\n",
    "\n",
    "y_pred_gb = model_gb_p.predict(X_test_gb)"
   ]
  },
  {
   "cell_type": "code",
   "execution_count": 18,
   "metadata": {},
   "outputs": [
    {
     "data": {
      "image/png": "[encoded data removed]",
      "text/plain": [
       "<matplotlib.figure.Figure at 0x110d2dbd0>"
      ]
     },
     "metadata": {},
     "output_type": "display_data"
    }
   ],
   "source": [
    "%matplotlib inline\n",
    "\n",
    "plot_predictions(y_pred_gb, y_test_gb)"
   ]
  },
  {
   "cell_type": "code",
   "execution_count": 19,
   "metadata": {},
   "outputs": [],
   "source": [
    "generate_submission(model_gb)"
   ]
  },
  {
   "cell_type": "markdown",
   "metadata": {},
   "source": [
    "## Models stacking with XGBoost"
   ]
  },
  {
   "cell_type": "markdown",
   "metadata": {},
   "source": [
    "### Getting first level models predictions"
   ]
  },
  {
   "cell_type": "code",
   "execution_count": 21,
   "metadata": {
    "scrolled": true
   },
   "outputs": [
    {
     "name": "stdout",
     "output_type": "stream",
     "text": [
      "Len of test_folds 1459\n",
      "Len of X_test 1459\n",
      "Len of result train 1460\n",
      "Len of test_folds 1459\n",
      "Len of X_test 1459\n",
      "Len of result train 1460\n",
      "[LibSVM][LibSVM][LibSVM][LibSVM][LibSVM][LibSVM][LibSVM][LibSVM][LibSVM][LibSVM]Len of test_folds 1459\n",
      "Len of X_test 1459\n",
      "Len of result train 1460\n"
     ]
    }
   ],
   "source": [
    "\n",
    "features_test, test = preprocess_testset()\n",
    "\n",
    "forest_train, forest_test = get_predictions(model_forest, features_train, target_train, features_test, 10)\n",
    "svr_lin_train, svr_lin_test = get_predictions(svr_lin, features_train, target_train, features_test, 10)\n",
    "gb_train, gb_test = get_predictions(model_gb, features_train, target_train, features_test, 10)\n",
    "#ada_train, ada_test = get_predictions(AdaBoostRegressor(n_estimators=1000), features_train, target_train, features_test, 10)\n",
    "#ext_train, ext_test = get_predictions(ExtraTreesRegressor(n_estimators=1000), features_train, target_train, features_test, 10)"
   ]
  },
  {
   "cell_type": "code",
   "execution_count": 22,
   "metadata": {},
   "outputs": [
    {
     "data": {
      "text/plain": [
       "1459"
      ]
     },
     "execution_count": 22,
     "metadata": {},
     "output_type": "execute_result"
    }
   ],
   "source": [
    "len(features_test[:,0])"
   ]
  },
  {
   "cell_type": "markdown",
   "metadata": {},
   "source": [
    "### Combining datasets"
   ]
  },
  {
   "cell_type": "code",
   "execution_count": 23,
   "metadata": {},
   "outputs": [],
   "source": [
    "SX_train = np.concatenate((forest_train, svr_lin_train, gb_train), axis=1)\n",
    "SX_test = np.concatenate((forest_test, svr_lin_test, gb_test), axis=1)"
   ]
  },
  {
   "cell_type": "code",
   "execution_count": 24,
   "metadata": {
    "scrolled": false
   },
   "outputs": [
    {
     "data": {
      "text/plain": [
       "<matplotlib.axes._subplots.AxesSubplot at 0x111001910>"
      ]
     },
     "execution_count": 24,
     "metadata": {},
     "output_type": "execute_result"
    },
    {
     "data": {
      "image/png": "[encoded data removed]",
      "text/plain": [
       "<matplotlib.figure.Figure at 0x11068e450>"
      ]
     },
     "metadata": {},
     "output_type": "display_data"
    }
   ],
   "source": [
    "import xgboost as xgb\n",
    "\n",
    "dtrain = xgb.DMatrix(SX_train, label = target_train)\n",
    "dtest = xgb.DMatrix(SX_test)\n",
    "\n",
    "params = {\"max_depth\":2, \"eta\":0.1}\n",
    "model = xgb.cv(params, dtrain,  num_boost_round=500, early_stopping_rounds=100)\n",
    "model.loc[30:,[\"test-rmse-mean\", \"train-rmse-mean\"]].plot()"
   ]
  },
  {
   "cell_type": "code",
   "execution_count": 32,
   "metadata": {
    "scrolled": false
   },
   "outputs": [
    {
     "name": "stdout",
     "output_type": "stream",
     "text": [
      "Train: 0.943516504286\n",
      "Test: 0.897839582002\n",
      "Train: 0.939125929068\n",
      "Test: 0.941449683111\n",
      "Train: 0.940521899031\n",
      "Test: 0.933180622136\n",
      "Train: 0.9419690332\n",
      "Test: 0.870400811339\n",
      "Train: 0.944852044874\n",
      "Test: 0.825615866832\n",
      "Train: 0.941786335377\n",
      "Test: 0.919922547616\n",
      "Train: 0.942203044445\n",
      "Test: 0.909332490144\n",
      "Train: 0.940478749831\n",
      "Test: 0.932379010979\n",
      "Train: 0.942670536045\n",
      "Test: 0.893942872504\n",
      "Train: 0.942589224675\n",
      "Test: 0.908164192543\n",
      "Average: 0.903222767921\n"
     ]
    }
   ],
   "source": [
    "model_xgb = xgb.XGBRegressor(n_estimators=3000, max_depth=5, learning_rate=0.1, random_state=1, \n",
    "                             reg_alpha=1, subsample=1)\n",
    "\n",
    "cross_validate(model_xgb, SX_train, target_train, 10)\n"
   ]
  },
  {
   "cell_type": "code",
   "execution_count": 33,
   "metadata": {},
   "outputs": [],
   "source": [
    "y_test_kaggle = model_xgb.predict(SX_test)\n",
    "test = pd.read_csv(\"data/test.csv\")\n",
    "\n",
    "ids = test[\"Id\"].astype(int)\n",
    "result = pd.DataFrame(data=np.exp(y_test_kaggle), columns = [\"SalePrice\"], index=ids)\n",
    "result.to_csv(\"data/result.csv\")"
   ]
  },
  {
   "cell_type": "markdown",
   "metadata": {},
   "source": [
    "### Neural network"
   ]
  },
  {
   "cell_type": "code",
   "execution_count": 103,
   "metadata": {
    "scrolled": true
   },
   "outputs": [
    {
     "name": "stdout",
     "output_type": "stream",
     "text": [
      "Train: 0.457464421844\n",
      "Test: 0.384202913023\n",
      "Train: 0.455080765923\n",
      "Test: 0.534391721573\n",
      "Train: 0.453651082219\n",
      "Test: 0.541008438191\n",
      "Train: 0.456406014966\n",
      "Test: 0.462466652614\n",
      "Train: 0.447327372711\n",
      "Test: 0.523487000104\n",
      "Train: 0.552652419967\n",
      "Test: 0.578743584343\n",
      "Train: 0.413839103084\n",
      "Test: 0.317380731931\n",
      "Train: 0.405672072761\n",
      "Test: 0.335082383011\n",
      "Train: 0.481162321718\n",
      "Test: 0.455537965683\n",
      "Train: 0.397048114205\n",
      "Test: 0.301307409687\n",
      "Average: 0.443360880016\n"
     ]
    }
   ],
   "source": [
    "from sklearn.neural_network import MLPRegressor \n",
    "\n",
    "model_nn = MLPRegressor(hidden_layer_sizes=(30,50,20,), random_state=2, alpha=0.00001, max_iter=100000)\n",
    "\n",
    "cross_validate(model_nn, SX_train, target_train, 10)"
   ]
  },
  {
   "cell_type": "code",
   "execution_count": 21,
   "metadata": {
    "scrolled": false
   },
   "outputs": [
    {
     "name": "stderr",
     "output_type": "stream",
     "text": [
      "/Users/ksenia/my-venv/lib/python2.7/site-packages/sklearn/neural_network/multilayer_perceptron.py:564: ConvergenceWarning: Stochastic Optimizer: Maximum iterations (200) reached and the optimization hasn't converged yet.\n",
      "  % self.max_iter, ConvergenceWarning)\n"
     ]
    }
   ],
   "source": [
    "from sklearn.model_selection import train_test_split\n",
    "\n",
    "X_train_nn, X_test_nn, y_train_nn, y_test_nn = train_test_split(features_train, target_train)\n",
    "\n",
    "model_nn_p = MLPRegressor(hidden_layer_sizes=(30,50,30,), random_state=2, alpha=2.5)\n",
    "\n",
    "model_nn_p.fit(X_train_nn, y_train_nn)\n",
    "\n",
    "y_pred_nn = model_nn_p.predict(X_test_nn)"
   ]
  },
  {
   "cell_type": "code",
   "execution_count": 230,
   "metadata": {
    "scrolled": true
   },
   "outputs": [
    {
     "data": {
      "image/png": "[encoded data removed]",
      "text/plain": [
       "<matplotlib.figure.Figure at 0x7f65bbb30dd0>"
      ]
     },
     "metadata": {},
     "output_type": "display_data"
    }
   ],
   "source": [
    "%matplotlib inline\n",
    "\n",
    "plot_predictions(y_pred_gb, y_test_gb)"
   ]
  },
  {
   "cell_type": "code",
   "execution_count": null,
   "metadata": {},
   "outputs": [],
   "source": []
  },
  {
   "cell_type": "code",
   "execution_count": 100,
   "metadata": {
    "scrolled": true
   },
   "outputs": [
    {
     "name": "stdout",
     "output_type": "stream",
     "text": [
      "Train: 0.94080490998\n",
      "Test: 0.901058650121\n",
      "Train: 0.937400227753\n",
      "Test: 0.936281728313\n",
      "Train: 0.937574764609\n",
      "Test: 0.939445267706\n",
      "Train: 0.941686803328\n",
      "Test: 0.839685914973\n",
      "Train: 0.942835950442\n",
      "Test: 0.836249383469\n",
      "Train: 0.938957635668\n",
      "Test: 0.911318507213\n",
      "Train: 0.938611369782\n",
      "Test: 0.908254651327\n",
      "Train: 0.938056221739\n",
      "Test: 0.932605229\n",
      "Train: 0.939637564228\n",
      "Test: 0.857954998007\n",
      "Train: 0.94007866119\n",
      "Test: 0.900537514805\n",
      "Average: 0.896339184493\n"
     ]
    }
   ],
   "source": [
    "from sklearn.ensemble import GradientBoostingRegressor\n",
    "\n",
    "model_gb_c = GradientBoostingRegressor(learning_rate=0.002, n_estimators=3000, max_depth=3, random_state=4,\n",
    "                                     min_samples_split=5, max_features=2)\n",
    "\n",
    "cross_validate(model_gb_c, SX_train, target_train, 10)"
   ]
  },
  {
   "cell_type": "code",
   "execution_count": 101,
   "metadata": {
    "scrolled": true
   },
   "outputs": [],
   "source": [
    "y_test_kaggle = model_gb_c.predict(SX_test)\n",
    "test = pd.read_csv(\"data/test.csv\")\n",
    "\n",
    "ids = test[\"Id\"].astype(int)\n",
    "result = pd.DataFrame(data=np.exp(y_test_kaggle), columns = [\"SalePrice\"], index=ids)\n",
    "result.to_csv(\"data/result.csv\")"
   ]
  },
  {
   "cell_type": "markdown",
   "metadata": {},
   "source": [
    "## Linear regression"
   ]
  },
  {
   "cell_type": "markdown",
   "metadata": {},
   "source": [
    "### Fit and extimate model"
   ]
  },
  {
   "cell_type": "code",
   "execution_count": 108,
   "metadata": {
    "scrolled": true
   },
   "outputs": [
    {
     "name": "stdout",
     "output_type": "stream",
     "text": [
      "Train: 0.89027192419\n",
      "Test: 0.866673423593\n",
      "Train: 0.885318418777\n",
      "Test: 0.908906150351\n",
      "Train: 0.885030831295\n",
      "Test: 0.916383602947\n",
      "Train: 0.894096553861\n",
      "Test: 0.840990861301\n",
      "Train: 0.892208545475\n",
      "Test: 0.870552543723\n",
      "Train: 0.88912187578\n",
      "Test: 0.88633375676\n",
      "Train: 0.891673899466\n",
      "Test: 0.874549450271\n",
      "Train: 0.888335778191\n",
      "Test: 0.900383593453\n",
      "Train: 0.893600361523\n",
      "Test: 0.829343077256\n",
      "Train: 0.886610975039\n",
      "Test: 0.891550160196\n",
      "Average: 0.878566661985\n"
     ]
    }
   ],
   "source": [
    "from sklearn.feature_selection import RFE\n",
    "from sklearn.linear_model import LinearRegression\n",
    "\n",
    "model_lin = LinearRegression()\n",
    "\n",
    "rfe = RFE(estimator=model_lin, n_features_to_select=20, step=1)\n",
    "\n",
    "cross_validate(rfe, features_train, target_train, 10)"
   ]
  },
  {
   "cell_type": "code",
   "execution_count": null,
   "metadata": {},
   "outputs": [],
   "source": []
  }
 ],
 "metadata": {
  "kernelspec": {
   "display_name": "Python 2",
   "language": "python",
   "name": "python2"
  },
  "language_info": {
   "codemirror_mode": {
    "name": "ipython",
    "version": 2
   },
   "file_extension": ".py",
   "mimetype": "text/x-python",
   "name": "python",
   "nbconvert_exporter": "python",
   "pygments_lexer": "ipython2",
   "version": "2.7.10"
  }
 },
 "nbformat": 4,
 "nbformat_minor": 2
}
